{
  "nbformat": 4,
  "nbformat_minor": 0,
  "metadata": {
    "colab": {
      "provenance": []
    },
    "kernelspec": {
      "name": "python3",
      "display_name": "Python 3"
    },
    "language_info": {
      "name": "python"
    },
    "accelerator": "GPU",
    "gpuClass": "standard"
  },
  "cells": [
    {
      "cell_type": "code",
      "execution_count": 1,
      "metadata": {
        "id": "nr4HNM_7eW46"
      },
      "outputs": [],
      "source": [
        "import os\n",
        "import tensorflow as tf\n",
        "import keras\n",
        "import numpy as np\n",
        "import cv2 as cv\n",
        "import random\n",
        "import matplotlib.pyplot as plt"
      ]
    },
    {
      "cell_type": "code",
      "source": [
        "!pip install roboflow\n",
        "\n",
        "from roboflow import Roboflow\n",
        "rf = Roboflow(api_key=\"VdwBRxsJsFmCMW94xJjd\")\n",
        "project = rf.workspace(\"object-detection-yolov5\").project(\"plate_ocr_ir\")\n",
        "dataset = project.version(2).download(\"folder\")"
      ],
      "metadata": {
        "id": "ApdKIjqXezXR"
      },
      "execution_count": null,
      "outputs": []
    },
    {
      "cell_type": "code",
      "source": [
        "train_path = \"/content/plate_ocr_ir-2/train\"\n",
        "valid_path = \"/content/plate_ocr_ir-2/valid\"\n",
        "test_path = \"/content/plate_ocr_ir-2/test\""
      ],
      "metadata": {
        "id": "p1Y_3_cie0Dq"
      },
      "execution_count": 2,
      "outputs": []
    },
    {
      "cell_type": "code",
      "source": [
        "class_names = subdirs = ['0', '1', '2', '3', '4', '5', '6', '7', '8', '9', 'a', 'b', 'ch', 'd', 'ein', 'f', 'g', 'ghaf', 'ghein', 'h2', 'hj', 'j', 'k', 'kh', 'l', 'm', 'n', 'p', 'r', 's', 'sad', 'sh', 't', 'ta', 'th', 'v', 'y', 'z', 'za', 'zad', 'zal', 'zh']\n",
        "num_classes = len(class_names)"
      ],
      "metadata": {
        "id": "en80IXoCfQ9V"
      },
      "execution_count": 3,
      "outputs": []
    },
    {
      "cell_type": "code",
      "source": [
        "labels_nums = [i for i in range(0,len(class_names))]\n",
        "print(labels_nums)"
      ],
      "metadata": {
        "colab": {
          "base_uri": "https://localhost:8080/"
        },
        "id": "4-Yug0ENfQ6v",
        "outputId": "a4b9af60-dea9-4172-821b-657c914700e0"
      },
      "execution_count": 4,
      "outputs": [
        {
          "output_type": "stream",
          "name": "stdout",
          "text": [
            "[0, 1, 2, 3, 4, 5, 6, 7, 8, 9, 10, 11, 12, 13, 14, 15, 16, 17, 18, 19, 20, 21, 22, 23, 24, 25, 26, 27, 28, 29, 30, 31, 32, 33, 34, 35, 36, 37, 38, 39, 40, 41]\n"
          ]
        }
      ]
    },
    {
      "cell_type": "code",
      "source": [
        "input_img_size = 40"
      ],
      "metadata": {
        "id": "AfkivbXDOxAR"
      },
      "execution_count": 5,
      "outputs": []
    },
    {
      "cell_type": "code",
      "source": [
        "train_imgs = []\n",
        "train_labels = []\n",
        "for indx, subdir in enumerate(subdirs):\n",
        "  imgfolder = os.path.join(train_path, subdir)\n",
        "  for imgname in os.listdir(imgfolder):\n",
        "    img = cv.imread(os.path.join(imgfolder, imgname), 0)\n",
        "    img = cv.resize(img, (input_img_size,input_img_size), interpolation = cv.INTER_AREA)\n",
        "    train_imgs.append(img)\n",
        "    train_labels.append(labels_nums[indx])\n",
        "\n",
        "c = list(zip(train_imgs, train_labels))\n",
        "random.shuffle(c)\n",
        "train_imgs, train_labels = zip(*c)\n",
        "\n",
        "train_images = np.array(train_imgs)\n",
        "train_labels = np.array(train_labels)"
      ],
      "metadata": {
        "id": "ItrEKO1afQ4W"
      },
      "execution_count": 6,
      "outputs": []
    },
    {
      "cell_type": "code",
      "source": [
        "valid_imgs = []\n",
        "valid_labels = []\n",
        "for indx, subdir in enumerate(subdirs):\n",
        "  imgfolder = os.path.join(valid_path, subdir)\n",
        "  if os.path.exists(imgfolder):\n",
        "    for imgname in os.listdir(imgfolder):\n",
        "      img = cv.imread(os.path.join(imgfolder, imgname), 0)\n",
        "      img = cv.resize(img, (input_img_size,input_img_size), interpolation = cv.INTER_AREA)\n",
        "      valid_imgs.append(img)\n",
        "      valid_labels.append(labels_nums[indx])\n",
        "\n",
        "c = list(zip(valid_imgs, valid_labels))\n",
        "random.shuffle(c)\n",
        "valid_imgs, valid_labels = zip(*c)\n",
        "\n",
        "test_images = np.array(valid_imgs)\n",
        "test_labels = np.array(valid_labels)"
      ],
      "metadata": {
        "id": "3gpAdrCXfQ14"
      },
      "execution_count": 7,
      "outputs": []
    },
    {
      "cell_type": "code",
      "source": [
        "num=40\n",
        "print(class_names[train_labels[num]])\n",
        "print(train_labels[num])\n",
        "plt.imshow(train_images[num])"
      ],
      "metadata": {
        "colab": {
          "base_uri": "https://localhost:8080/",
          "height": 319
        },
        "id": "JFx6GeszfYrG",
        "outputId": "6869b904-e0d7-43a0-a2d6-a75907452ba0"
      },
      "execution_count": 8,
      "outputs": [
        {
          "output_type": "stream",
          "name": "stdout",
          "text": [
            "za\n",
            "38\n"
          ]
        },
        {
          "output_type": "execute_result",
          "data": {
            "text/plain": [
              "<matplotlib.image.AxesImage at 0x7f8fc6709f40>"
            ]
          },
          "metadata": {},
          "execution_count": 8
        },
        {
          "output_type": "display_data",
          "data": {
            "text/plain": [
              "<Figure size 432x288 with 1 Axes>"
            ],
            "image/png": "[encoded data removed]"
          },
          "metadata": {
            "needs_background": "light"
          }
        }
      ]
    },
    {
      "cell_type": "code",
      "source": [
        "test_labels.shape"
      ],
      "metadata": {
        "colab": {
          "base_uri": "https://localhost:8080/"
        },
        "id": "Q1ntLbq3fYof",
        "outputId": "4e91f069-0336-4ae7-ac17-eca4d5eee69f"
      },
      "execution_count": 9,
      "outputs": [
        {
          "output_type": "execute_result",
          "data": {
            "text/plain": [
              "(792,)"
            ]
          },
          "metadata": {},
          "execution_count": 9
        }
      ]
    },
    {
      "cell_type": "code",
      "source": [
        "train_labels.shape"
      ],
      "metadata": {
        "colab": {
          "base_uri": "https://localhost:8080/"
        },
        "id": "UQWbvi6AGUvX",
        "outputId": "ba44bd45-1415-4937-eb12-c04ee48e1377"
      },
      "execution_count": 10,
      "outputs": [
        {
          "output_type": "execute_result",
          "data": {
            "text/plain": [
              "(8337,)"
            ]
          },
          "metadata": {},
          "execution_count": 10
        }
      ]
    },
    {
      "cell_type": "code",
      "source": [
        "train_images = train_images / 255.0\n",
        "test_images = test_images / 255.0"
      ],
      "metadata": {
        "id": "NL4aXNvBfYmA"
      },
      "execution_count": 11,
      "outputs": []
    },
    {
      "cell_type": "code",
      "source": [
        "import math\n",
        "def scheduler(epoch, lr):\n",
        "  if epoch < 10:\n",
        "    return lr\n",
        "  else:\n",
        "    return lr * math.exp(-0.01)\n",
        "\n",
        "#Add Callbacks, e.g. ModelCheckpoints, earlystopping, csvlogger.\n",
        "from keras.callbacks import LearningRateScheduler\n",
        "\n",
        "callbacks_list = [LearningRateScheduler(scheduler)]"
      ],
      "metadata": {
        "id": "v4rjdcqjLnjR"
      },
      "execution_count": 87,
      "outputs": []
    },
    {
      "cell_type": "code",
      "source": [
        "#Add Callbacks, e.g. ModelCheckpoints, earlystopping, csvlogger.\n",
        "from keras.callbacks import ModelCheckpoint, EarlyStopping, CSVLogger\n",
        "\n",
        "#ModelCheckpoint callback saves a model at some interval. \n",
        "\n",
        "#Give unique name to save all models as accuracy improves\n",
        "filepath=\"/content/saved_models/weights-improvement-{epoch:02d}-{val_accuracy:.2f}.hdf5\" #File name includes epoch and validation accuracy.\n",
        "\n",
        "#Overwrite the model each time accuracy improves. Saves a lot of space. \n",
        "#filepath=\"/content/drive/MyDrive/Colab Notebooks/saved_models/best_model.hdf5\" #File name includes epoch and validation accuracy.\n",
        "#Use Mode = max for accuracy and min for loss. \n",
        "checkpoint = ModelCheckpoint(filepath, monitor='val_accuracy', verbose=1, save_best_only=True, mode='max')\n",
        "\n",
        "#https://www.tensorflow.org/api_docs/python/tf/keras/callbacks/EarlyStopping\n",
        "early_stop = EarlyStopping(monitor='val_loss', patience=3, verbose=1)\n",
        "#This callback will stop the training when there is no improvement in\n",
        "# the validation loss for three consecutive epochs.\n",
        "\n",
        "#CSVLogger logs epoch, accuracy, loss, val_accuracy, val_loss. So we can plot later.\n",
        "log_csv = CSVLogger('/content/drive/MyDrive/Colab Notebooks/saved_logs/my_logs.csv', separator=',', append=False)\n",
        "\n",
        "callbacks_list = [checkpoint, LearningRateScheduler(scheduler)]"
      ],
      "metadata": {
        "id": "Gz2J0Vn-InJ7"
      },
      "execution_count": 88,
      "outputs": []
    },
    {
      "cell_type": "code",
      "source": [
        "from keras.models import Sequential\n",
        "from keras.layers import Dense, Flatten, Conv2D, MaxPool2D, Dropout\n",
        "\n",
        "tf.random.set_seed(13)\n",
        "model = Sequential()\n",
        "model.add(Conv2D(filters = 16, kernel_size=(7,7), activation='relu', input_shape = (input_img_size,input_img_size,1), kernel_initializer='he_normal'))\n",
        "model.add(Conv2D(filters = 12, kernel_size=(7,7), activation='relu', kernel_initializer='he_normal'))\n",
        "model.add(Dropout(0.3))\n",
        "model.add(Conv2D(filters = 8, kernel_size=(5,5), activation='relu', kernel_initializer='he_normal'))\n",
        "model.add(Dropout(0.3))\n",
        "\n",
        "model.add(Conv2D(filters = 8, kernel_size=(3,3), activation='relu', kernel_initializer='he_normal'))\n",
        "model.add(Dropout(0.3))\n",
        "model.add(MaxPool2D(pool_size=(2,2)))\n",
        "\n",
        "model.add(Flatten())\n",
        "model.add(Dense(512, activation='relu', kernel_initializer='he_normal'))\n",
        "model.add(Dropout(0.3))\n",
        "model.add(Dense(128, activation='relu', kernel_initializer='he_normal'))\n",
        "model.add(Dropout(0.3))\n",
        "model.add(Dense(64, activation='relu', kernel_initializer='he_normal'))\n",
        "model.add(Dense(num_classes, activation = 'softmax'))"
      ],
      "metadata": {
        "id": "Qmw9tdbd-N_k"
      },
      "execution_count": 89,
      "outputs": []
    },
    {
      "cell_type": "code",
      "source": [
        "model.summary()"
      ],
      "metadata": {
        "colab": {
          "base_uri": "https://localhost:8080/"
        },
        "id": "nznyOrbzCb2Z",
        "outputId": "051b9655-cbbd-493e-8bd3-70d16ecf1e5d"
      },
      "execution_count": 90,
      "outputs": [
        {
          "output_type": "stream",
          "name": "stdout",
          "text": [
            "Model: \"sequential_23\"\n",
            "_________________________________________________________________\n",
            " Layer (type)                Output Shape              Param #   \n",
            "=================================================================\n",
            " conv2d_85 (Conv2D)          (None, 34, 34, 16)        800       \n",
            "                                                                 \n",
            " conv2d_86 (Conv2D)          (None, 28, 28, 12)        9420      \n",
            "                                                                 \n",
            " dropout_115 (Dropout)       (None, 28, 28, 12)        0         \n",
            "                                                                 \n",
            " conv2d_87 (Conv2D)          (None, 24, 24, 8)         2408      \n",
            "                                                                 \n",
            " dropout_116 (Dropout)       (None, 24, 24, 8)         0         \n",
            "                                                                 \n",
            " conv2d_88 (Conv2D)          (None, 22, 22, 8)         584       \n",
            "                                                                 \n",
            " dropout_117 (Dropout)       (None, 22, 22, 8)         0         \n",
            "                                                                 \n",
            " max_pooling2d_22 (MaxPoolin  (None, 11, 11, 8)        0         \n",
            " g2D)                                                            \n",
            "                                                                 \n",
            " flatten_23 (Flatten)        (None, 968)               0         \n",
            "                                                                 \n",
            " dense_90 (Dense)            (None, 512)               496128    \n",
            "                                                                 \n",
            " dropout_118 (Dropout)       (None, 512)               0         \n",
            "                                                                 \n",
            " dense_91 (Dense)            (None, 128)               65664     \n",
            "                                                                 \n",
            " dropout_119 (Dropout)       (None, 128)               0         \n",
            "                                                                 \n",
            " dense_92 (Dense)            (None, 64)                8256      \n",
            "                                                                 \n",
            " dense_93 (Dense)            (None, 42)                2730      \n",
            "                                                                 \n",
            "=================================================================\n",
            "Total params: 585,990\n",
            "Trainable params: 585,990\n",
            "Non-trainable params: 0\n",
            "_________________________________________________________________\n"
          ]
        }
      ]
    },
    {
      "cell_type": "code",
      "source": [
        "tf.random.set_seed(13)\n",
        "opt = tf.keras.optimizers.Adam(learning_rate=4e-4)\n",
        "model.compile(loss = 'sparse_categorical_crossentropy', optimizer = opt , metrics = ['accuracy'])\n",
        "hist = model.fit(train_images, train_labels, epochs=100, validation_data=(test_images, test_labels), callbacks = callbacks_list)"
      ],
      "metadata": {
        "colab": {
          "base_uri": "https://localhost:8080/"
        },
        "id": "4C3uKTgWCJ5m",
        "outputId": "1a6432d0-8fcf-4226-9cfc-14312601164e"
      },
      "execution_count": 91,
      "outputs": [
        {
          "output_type": "stream",
          "name": "stdout",
          "text": [
            "Epoch 1/100\n",
            "253/261 [============================>.] - ETA: 0s - loss: 3.5173 - accuracy: 0.0803\n",
            "Epoch 1: val_accuracy improved from -inf to 0.37121, saving model to /content/saved_models/weights-improvement-01-0.37.hdf5\n",
            "261/261 [==============================] - 61s 8ms/step - loss: 3.5028 - accuracy: 0.0835 - val_loss: 2.7875 - val_accuracy: 0.3712 - lr: 4.0000e-04\n",
            "Epoch 2/100\n",
            "257/261 [============================>.] - ETA: 0s - loss: 2.5799 - accuracy: 0.2765\n",
            "Epoch 2: val_accuracy improved from 0.37121 to 0.56439, saving model to /content/saved_models/weights-improvement-02-0.56.hdf5\n",
            "261/261 [==============================] - 2s 6ms/step - loss: 2.5755 - accuracy: 0.2778 - val_loss: 1.7380 - val_accuracy: 0.5644 - lr: 4.0000e-04\n",
            "Epoch 3/100\n",
            "254/261 [============================>.] - ETA: 0s - loss: 1.9454 - accuracy: 0.4219\n",
            "Epoch 3: val_accuracy improved from 0.56439 to 0.67803, saving model to /content/saved_models/weights-improvement-03-0.68.hdf5\n",
            "261/261 [==============================] - 2s 7ms/step - loss: 1.9425 - accuracy: 0.4233 - val_loss: 1.2772 - val_accuracy: 0.6780 - lr: 4.0000e-04\n",
            "Epoch 4/100\n",
            "261/261 [==============================] - ETA: 0s - loss: 1.4987 - accuracy: 0.5360\n",
            "Epoch 4: val_accuracy improved from 0.67803 to 0.75884, saving model to /content/saved_models/weights-improvement-04-0.76.hdf5\n",
            "261/261 [==============================] - 2s 8ms/step - loss: 1.4987 - accuracy: 0.5360 - val_loss: 0.8143 - val_accuracy: 0.7588 - lr: 4.0000e-04\n",
            "Epoch 5/100\n",
            "261/261 [==============================] - ETA: 0s - loss: 1.2082 - accuracy: 0.6125\n",
            "Epoch 5: val_accuracy improved from 0.75884 to 0.83207, saving model to /content/saved_models/weights-improvement-05-0.83.hdf5\n",
            "261/261 [==============================] - 2s 8ms/step - loss: 1.2082 - accuracy: 0.6125 - val_loss: 0.6317 - val_accuracy: 0.8321 - lr: 4.0000e-04\n",
            "Epoch 6/100\n",
            "259/261 [============================>.] - ETA: 0s - loss: 1.0125 - accuracy: 0.6677\n",
            "Epoch 6: val_accuracy improved from 0.83207 to 0.85354, saving model to /content/saved_models/weights-improvement-06-0.85.hdf5\n",
            "261/261 [==============================] - 2s 7ms/step - loss: 1.0115 - accuracy: 0.6683 - val_loss: 0.4718 - val_accuracy: 0.8535 - lr: 4.0000e-04\n",
            "Epoch 7/100\n",
            "253/261 [============================>.] - ETA: 0s - loss: 0.8676 - accuracy: 0.7108\n",
            "Epoch 7: val_accuracy improved from 0.85354 to 0.85480, saving model to /content/saved_models/weights-improvement-07-0.85.hdf5\n",
            "261/261 [==============================] - 2s 6ms/step - loss: 0.8654 - accuracy: 0.7110 - val_loss: 0.4663 - val_accuracy: 0.8548 - lr: 4.0000e-04\n",
            "Epoch 8/100\n",
            "254/261 [============================>.] - ETA: 0s - loss: 0.7536 - accuracy: 0.7437\n",
            "Epoch 8: val_accuracy improved from 0.85480 to 0.90025, saving model to /content/saved_models/weights-improvement-08-0.90.hdf5\n",
            "261/261 [==============================] - 2s 7ms/step - loss: 0.7568 - accuracy: 0.7419 - val_loss: 0.3877 - val_accuracy: 0.9003 - lr: 4.0000e-04\n",
            "Epoch 9/100\n",
            "257/261 [============================>.] - ETA: 0s - loss: 0.6844 - accuracy: 0.7681\n",
            "Epoch 9: val_accuracy improved from 0.90025 to 0.90909, saving model to /content/saved_models/weights-improvement-09-0.91.hdf5\n",
            "261/261 [==============================] - 2s 7ms/step - loss: 0.6846 - accuracy: 0.7684 - val_loss: 0.3644 - val_accuracy: 0.9091 - lr: 4.0000e-04\n",
            "Epoch 10/100\n",
            "260/261 [============================>.] - ETA: 0s - loss: 0.6364 - accuracy: 0.7849\n",
            "Epoch 10: val_accuracy did not improve from 0.90909\n",
            "261/261 [==============================] - 2s 6ms/step - loss: 0.6358 - accuracy: 0.7849 - val_loss: 0.3378 - val_accuracy: 0.9040 - lr: 4.0000e-04\n",
            "Epoch 11/100\n",
            "256/261 [============================>.] - ETA: 0s - loss: 0.5537 - accuracy: 0.8046\n",
            "Epoch 11: val_accuracy did not improve from 0.90909\n",
            "261/261 [==============================] - 2s 8ms/step - loss: 0.5568 - accuracy: 0.8039 - val_loss: 0.3061 - val_accuracy: 0.9091 - lr: 3.9602e-04\n",
            "Epoch 12/100\n",
            "259/261 [============================>.] - ETA: 0s - loss: 0.5227 - accuracy: 0.8214\n",
            "Epoch 12: val_accuracy improved from 0.90909 to 0.91288, saving model to /content/saved_models/weights-improvement-12-0.91.hdf5\n",
            "261/261 [==============================] - 3s 13ms/step - loss: 0.5225 - accuracy: 0.8214 - val_loss: 0.2827 - val_accuracy: 0.9129 - lr: 3.9208e-04\n",
            "Epoch 13/100\n",
            "255/261 [============================>.] - ETA: 0s - loss: 0.4692 - accuracy: 0.8379\n",
            "Epoch 13: val_accuracy improved from 0.91288 to 0.92803, saving model to /content/saved_models/weights-improvement-13-0.93.hdf5\n",
            "261/261 [==============================] - 2s 7ms/step - loss: 0.4708 - accuracy: 0.8368 - val_loss: 0.2605 - val_accuracy: 0.9280 - lr: 3.8818e-04\n",
            "Epoch 14/100\n",
            "254/261 [============================>.] - ETA: 0s - loss: 0.4482 - accuracy: 0.8461\n",
            "Epoch 14: val_accuracy improved from 0.92803 to 0.92929, saving model to /content/saved_models/weights-improvement-14-0.93.hdf5\n",
            "261/261 [==============================] - 2s 7ms/step - loss: 0.4484 - accuracy: 0.8455 - val_loss: 0.2512 - val_accuracy: 0.9293 - lr: 3.8432e-04\n",
            "Epoch 15/100\n",
            "256/261 [============================>.] - ETA: 0s - loss: 0.4192 - accuracy: 0.8529\n",
            "Epoch 15: val_accuracy improved from 0.92929 to 0.93687, saving model to /content/saved_models/weights-improvement-15-0.94.hdf5\n",
            "261/261 [==============================] - 2s 7ms/step - loss: 0.4170 - accuracy: 0.8543 - val_loss: 0.2340 - val_accuracy: 0.9369 - lr: 3.8049e-04\n",
            "Epoch 16/100\n",
            "258/261 [============================>.] - ETA: 0s - loss: 0.3925 - accuracy: 0.8648\n",
            "Epoch 16: val_accuracy did not improve from 0.93687\n",
            "261/261 [==============================] - 2s 7ms/step - loss: 0.3917 - accuracy: 0.8652 - val_loss: 0.2346 - val_accuracy: 0.9343 - lr: 3.7671e-04\n",
            "Epoch 17/100\n",
            "261/261 [==============================] - ETA: 0s - loss: 0.3629 - accuracy: 0.8727\n",
            "Epoch 17: val_accuracy improved from 0.93687 to 0.93813, saving model to /content/saved_models/weights-improvement-17-0.94.hdf5\n",
            "261/261 [==============================] - 2s 8ms/step - loss: 0.3629 - accuracy: 0.8727 - val_loss: 0.2396 - val_accuracy: 0.9381 - lr: 3.7296e-04\n",
            "Epoch 18/100\n",
            "254/261 [============================>.] - ETA: 0s - loss: 0.3437 - accuracy: 0.8788\n",
            "Epoch 18: val_accuracy did not improve from 0.93813\n",
            "261/261 [==============================] - 2s 7ms/step - loss: 0.3429 - accuracy: 0.8790 - val_loss: 0.2382 - val_accuracy: 0.9268 - lr: 3.6925e-04\n",
            "Epoch 19/100\n",
            "259/261 [============================>.] - ETA: 0s - loss: 0.3365 - accuracy: 0.8772\n",
            "Epoch 19: val_accuracy did not improve from 0.93813\n",
            "261/261 [==============================] - 2s 7ms/step - loss: 0.3387 - accuracy: 0.8765 - val_loss: 0.2350 - val_accuracy: 0.9356 - lr: 3.6557e-04\n",
            "Epoch 20/100\n",
            "261/261 [==============================] - ETA: 0s - loss: 0.3168 - accuracy: 0.8893\n",
            "Epoch 20: val_accuracy improved from 0.93813 to 0.93939, saving model to /content/saved_models/weights-improvement-20-0.94.hdf5\n",
            "261/261 [==============================] - 2s 7ms/step - loss: 0.3168 - accuracy: 0.8893 - val_loss: 0.2067 - val_accuracy: 0.9394 - lr: 3.6193e-04\n",
            "Epoch 21/100\n",
            "261/261 [==============================] - ETA: 0s - loss: 0.2896 - accuracy: 0.8947\n",
            "Epoch 21: val_accuracy improved from 0.93939 to 0.95076, saving model to /content/saved_models/weights-improvement-21-0.95.hdf5\n",
            "261/261 [==============================] - 2s 7ms/step - loss: 0.2896 - accuracy: 0.8947 - val_loss: 0.1926 - val_accuracy: 0.9508 - lr: 3.5833e-04\n",
            "Epoch 22/100\n",
            "260/261 [============================>.] - ETA: 0s - loss: 0.2686 - accuracy: 0.9075\n",
            "Epoch 22: val_accuracy did not improve from 0.95076\n",
            "261/261 [==============================] - 2s 6ms/step - loss: 0.2687 - accuracy: 0.9073 - val_loss: 0.2083 - val_accuracy: 0.9407 - lr: 3.5477e-04\n",
            "Epoch 23/100\n",
            "257/261 [============================>.] - ETA: 0s - loss: 0.2624 - accuracy: 0.9038\n",
            "Epoch 23: val_accuracy did not improve from 0.95076\n",
            "261/261 [==============================] - 2s 7ms/step - loss: 0.2636 - accuracy: 0.9032 - val_loss: 0.1900 - val_accuracy: 0.9419 - lr: 3.5124e-04\n",
            "Epoch 24/100\n",
            "256/261 [============================>.] - ETA: 0s - loss: 0.2556 - accuracy: 0.9093\n",
            "Epoch 24: val_accuracy did not improve from 0.95076\n",
            "261/261 [==============================] - 2s 9ms/step - loss: 0.2551 - accuracy: 0.9094 - val_loss: 0.1984 - val_accuracy: 0.9407 - lr: 3.4774e-04\n",
            "Epoch 25/100\n",
            "260/261 [============================>.] - ETA: 0s - loss: 0.2540 - accuracy: 0.9112\n",
            "Epoch 25: val_accuracy did not improve from 0.95076\n",
            "261/261 [==============================] - 2s 7ms/step - loss: 0.2536 - accuracy: 0.9114 - val_loss: 0.1877 - val_accuracy: 0.9432 - lr: 3.4428e-04\n",
            "Epoch 26/100\n",
            "260/261 [============================>.] - ETA: 0s - loss: 0.2312 - accuracy: 0.9204\n",
            "Epoch 26: val_accuracy did not improve from 0.95076\n",
            "261/261 [==============================] - 2s 7ms/step - loss: 0.2308 - accuracy: 0.9206 - val_loss: 0.1858 - val_accuracy: 0.9495 - lr: 3.4086e-04\n",
            "Epoch 27/100\n",
            "253/261 [============================>.] - ETA: 0s - loss: 0.2137 - accuracy: 0.9249\n",
            "Epoch 27: val_accuracy did not improve from 0.95076\n",
            "261/261 [==============================] - 2s 6ms/step - loss: 0.2135 - accuracy: 0.9248 - val_loss: 0.2001 - val_accuracy: 0.9470 - lr: 3.3747e-04\n",
            "Epoch 28/100\n",
            "253/261 [============================>.] - ETA: 0s - loss: 0.2089 - accuracy: 0.9264\n",
            "Epoch 28: val_accuracy improved from 0.95076 to 0.96338, saving model to /content/saved_models/weights-improvement-28-0.96.hdf5\n",
            "261/261 [==============================] - 2s 7ms/step - loss: 0.2092 - accuracy: 0.9265 - val_loss: 0.1976 - val_accuracy: 0.9634 - lr: 3.3411e-04\n",
            "Epoch 29/100\n",
            "260/261 [============================>.] - ETA: 0s - loss: 0.2091 - accuracy: 0.9244\n",
            "Epoch 29: val_accuracy did not improve from 0.96338\n",
            "261/261 [==============================] - 2s 6ms/step - loss: 0.2091 - accuracy: 0.9244 - val_loss: 0.1889 - val_accuracy: 0.9508 - lr: 3.3078e-04\n",
            "Epoch 30/100\n",
            "259/261 [============================>.] - ETA: 0s - loss: 0.1993 - accuracy: 0.9297\n",
            "Epoch 30: val_accuracy did not improve from 0.96338\n",
            "261/261 [==============================] - 2s 7ms/step - loss: 0.1997 - accuracy: 0.9298 - val_loss: 0.1639 - val_accuracy: 0.9558 - lr: 3.2749e-04\n",
            "Epoch 31/100\n",
            "257/261 [============================>.] - ETA: 0s - loss: 0.1910 - accuracy: 0.9339\n",
            "Epoch 31: val_accuracy did not improve from 0.96338\n",
            "261/261 [==============================] - 2s 8ms/step - loss: 0.1902 - accuracy: 0.9339 - val_loss: 0.1520 - val_accuracy: 0.9621 - lr: 3.2423e-04\n",
            "Epoch 32/100\n",
            "256/261 [============================>.] - ETA: 0s - loss: 0.1694 - accuracy: 0.9412\n",
            "Epoch 32: val_accuracy did not improve from 0.96338\n",
            "261/261 [==============================] - 2s 6ms/step - loss: 0.1681 - accuracy: 0.9415 - val_loss: 0.1654 - val_accuracy: 0.9583 - lr: 3.2101e-04\n",
            "Epoch 33/100\n",
            "255/261 [============================>.] - ETA: 0s - loss: 0.1811 - accuracy: 0.9358\n",
            "Epoch 33: val_accuracy did not improve from 0.96338\n",
            "261/261 [==============================] - 2s 7ms/step - loss: 0.1809 - accuracy: 0.9363 - val_loss: 0.1606 - val_accuracy: 0.9558 - lr: 3.1781e-04\n",
            "Epoch 34/100\n",
            "254/261 [============================>.] - ETA: 0s - loss: 0.1701 - accuracy: 0.9389\n",
            "Epoch 34: val_accuracy did not improve from 0.96338\n",
            "261/261 [==============================] - 2s 6ms/step - loss: 0.1690 - accuracy: 0.9397 - val_loss: 0.1795 - val_accuracy: 0.9533 - lr: 3.1465e-04\n",
            "Epoch 35/100\n",
            "256/261 [============================>.] - ETA: 0s - loss: 0.1541 - accuracy: 0.9458\n",
            "Epoch 35: val_accuracy did not improve from 0.96338\n",
            "261/261 [==============================] - 2s 6ms/step - loss: 0.1530 - accuracy: 0.9464 - val_loss: 0.1903 - val_accuracy: 0.9533 - lr: 3.1152e-04\n",
            "Epoch 36/100\n",
            "260/261 [============================>.] - ETA: 0s - loss: 0.1718 - accuracy: 0.9403\n",
            "Epoch 36: val_accuracy did not improve from 0.96338\n",
            "261/261 [==============================] - 2s 7ms/step - loss: 0.1717 - accuracy: 0.9403 - val_loss: 0.1708 - val_accuracy: 0.9520 - lr: 3.0842e-04\n",
            "Epoch 37/100\n",
            "260/261 [============================>.] - ETA: 0s - loss: 0.1569 - accuracy: 0.9452\n",
            "Epoch 37: val_accuracy did not improve from 0.96338\n",
            "261/261 [==============================] - 2s 7ms/step - loss: 0.1566 - accuracy: 0.9453 - val_loss: 0.1783 - val_accuracy: 0.9621 - lr: 3.0535e-04\n",
            "Epoch 38/100\n",
            "260/261 [============================>.] - ETA: 0s - loss: 0.1524 - accuracy: 0.9460\n",
            "Epoch 38: val_accuracy did not improve from 0.96338\n",
            "261/261 [==============================] - 2s 8ms/step - loss: 0.1524 - accuracy: 0.9460 - val_loss: 0.1746 - val_accuracy: 0.9558 - lr: 3.0231e-04\n",
            "Epoch 39/100\n",
            "254/261 [============================>.] - ETA: 0s - loss: 0.1443 - accuracy: 0.9492\n",
            "Epoch 39: val_accuracy did not improve from 0.96338\n",
            "261/261 [==============================] - 2s 6ms/step - loss: 0.1443 - accuracy: 0.9495 - val_loss: 0.1698 - val_accuracy: 0.9583 - lr: 2.9931e-04\n",
            "Epoch 40/100\n",
            "260/261 [============================>.] - ETA: 0s - loss: 0.1353 - accuracy: 0.9525\n",
            "Epoch 40: val_accuracy did not improve from 0.96338\n",
            "261/261 [==============================] - 2s 6ms/step - loss: 0.1351 - accuracy: 0.9526 - val_loss: 0.1723 - val_accuracy: 0.9596 - lr: 2.9633e-04\n",
            "Epoch 41/100\n",
            "259/261 [============================>.] - ETA: 0s - loss: 0.1351 - accuracy: 0.9513\n",
            "Epoch 41: val_accuracy did not improve from 0.96338\n",
            "261/261 [==============================] - 2s 6ms/step - loss: 0.1351 - accuracy: 0.9512 - val_loss: 0.1804 - val_accuracy: 0.9545 - lr: 2.9338e-04\n",
            "Epoch 42/100\n",
            "259/261 [============================>.] - ETA: 0s - loss: 0.1302 - accuracy: 0.9561\n",
            "Epoch 42: val_accuracy did not improve from 0.96338\n",
            "261/261 [==============================] - 2s 7ms/step - loss: 0.1313 - accuracy: 0.9555 - val_loss: 0.1541 - val_accuracy: 0.9558 - lr: 2.9046e-04\n",
            "Epoch 43/100\n",
            "256/261 [============================>.] - ETA: 0s - loss: 0.1122 - accuracy: 0.9613\n",
            "Epoch 43: val_accuracy did not improve from 0.96338\n",
            "261/261 [==============================] - 2s 6ms/step - loss: 0.1117 - accuracy: 0.9614 - val_loss: 0.1938 - val_accuracy: 0.9558 - lr: 2.8757e-04\n",
            "Epoch 44/100\n",
            "257/261 [============================>.] - ETA: 0s - loss: 0.1151 - accuracy: 0.9605\n",
            "Epoch 44: val_accuracy did not improve from 0.96338\n",
            "261/261 [==============================] - 2s 8ms/step - loss: 0.1156 - accuracy: 0.9607 - val_loss: 0.1694 - val_accuracy: 0.9621 - lr: 2.8471e-04\n",
            "Epoch 45/100\n",
            "261/261 [==============================] - ETA: 0s - loss: 0.1297 - accuracy: 0.9549\n",
            "Epoch 45: val_accuracy did not improve from 0.96338\n",
            "261/261 [==============================] - 2s 9ms/step - loss: 0.1297 - accuracy: 0.9549 - val_loss: 0.1946 - val_accuracy: 0.9533 - lr: 2.8188e-04\n",
            "Epoch 46/100\n",
            "253/261 [============================>.] - ETA: 0s - loss: 0.1185 - accuracy: 0.9605\n",
            "Epoch 46: val_accuracy improved from 0.96338 to 0.96591, saving model to /content/saved_models/weights-improvement-46-0.97.hdf5\n",
            "261/261 [==============================] - 2s 7ms/step - loss: 0.1185 - accuracy: 0.9605 - val_loss: 0.1426 - val_accuracy: 0.9659 - lr: 2.7907e-04\n",
            "Epoch 47/100\n",
            "255/261 [============================>.] - ETA: 0s - loss: 0.1096 - accuracy: 0.9624\n",
            "Epoch 47: val_accuracy did not improve from 0.96591\n",
            "261/261 [==============================] - 2s 7ms/step - loss: 0.1099 - accuracy: 0.9621 - val_loss: 0.1486 - val_accuracy: 0.9634 - lr: 2.7629e-04\n",
            "Epoch 48/100\n",
            "258/261 [============================>.] - ETA: 0s - loss: 0.1178 - accuracy: 0.9592\n",
            "Epoch 48: val_accuracy did not improve from 0.96591\n",
            "261/261 [==============================] - 2s 6ms/step - loss: 0.1170 - accuracy: 0.9596 - val_loss: 0.1656 - val_accuracy: 0.9545 - lr: 2.7354e-04\n",
            "Epoch 49/100\n",
            "257/261 [============================>.] - ETA: 0s - loss: 0.1120 - accuracy: 0.9625\n",
            "Epoch 49: val_accuracy did not improve from 0.96591\n",
            "261/261 [==============================] - 2s 6ms/step - loss: 0.1119 - accuracy: 0.9627 - val_loss: 0.1866 - val_accuracy: 0.9583 - lr: 2.7082e-04\n",
            "Epoch 50/100\n",
            "254/261 [============================>.] - ETA: 0s - loss: 0.1149 - accuracy: 0.9604\n",
            "Epoch 50: val_accuracy did not improve from 0.96591\n",
            "261/261 [==============================] - 2s 6ms/step - loss: 0.1159 - accuracy: 0.9601 - val_loss: 0.1904 - val_accuracy: 0.9596 - lr: 2.6813e-04\n",
            "Epoch 51/100\n",
            "256/261 [============================>.] - ETA: 0s - loss: 0.0971 - accuracy: 0.9670\n",
            "Epoch 51: val_accuracy did not improve from 0.96591\n",
            "261/261 [==============================] - 2s 8ms/step - loss: 0.0962 - accuracy: 0.9673 - val_loss: 0.1999 - val_accuracy: 0.9571 - lr: 2.6546e-04\n",
            "Epoch 52/100\n",
            "258/261 [============================>.] - ETA: 0s - loss: 0.0969 - accuracy: 0.9666\n",
            "Epoch 52: val_accuracy did not improve from 0.96591\n",
            "261/261 [==============================] - 2s 8ms/step - loss: 0.0971 - accuracy: 0.9664 - val_loss: 0.1867 - val_accuracy: 0.9545 - lr: 2.6282e-04\n",
            "Epoch 53/100\n",
            "254/261 [============================>.] - ETA: 0s - loss: 0.1078 - accuracy: 0.9641\n",
            "Epoch 53: val_accuracy did not improve from 0.96591\n",
            "261/261 [==============================] - 2s 6ms/step - loss: 0.1095 - accuracy: 0.9640 - val_loss: 0.1732 - val_accuracy: 0.9609 - lr: 2.6020e-04\n",
            "Epoch 54/100\n",
            "259/261 [============================>.] - ETA: 0s - loss: 0.0903 - accuracy: 0.9692\n",
            "Epoch 54: val_accuracy did not improve from 0.96591\n",
            "261/261 [==============================] - 2s 7ms/step - loss: 0.0906 - accuracy: 0.9692 - val_loss: 0.1700 - val_accuracy: 0.9596 - lr: 2.5761e-04\n",
            "Epoch 55/100\n",
            "260/261 [============================>.] - ETA: 0s - loss: 0.0825 - accuracy: 0.9727\n",
            "Epoch 55: val_accuracy did not improve from 0.96591\n",
            "261/261 [==============================] - 2s 7ms/step - loss: 0.0823 - accuracy: 0.9728 - val_loss: 0.1779 - val_accuracy: 0.9571 - lr: 2.5505e-04\n",
            "Epoch 56/100\n",
            "255/261 [============================>.] - ETA: 0s - loss: 0.0885 - accuracy: 0.9694\n",
            "Epoch 56: val_accuracy did not improve from 0.96591\n",
            "261/261 [==============================] - 2s 7ms/step - loss: 0.0894 - accuracy: 0.9688 - val_loss: 0.1740 - val_accuracy: 0.9621 - lr: 2.5251e-04\n",
            "Epoch 57/100\n",
            "259/261 [============================>.] - ETA: 0s - loss: 0.0819 - accuracy: 0.9726\n",
            "Epoch 57: val_accuracy did not improve from 0.96591\n",
            "261/261 [==============================] - 2s 9ms/step - loss: 0.0818 - accuracy: 0.9727 - val_loss: 0.1608 - val_accuracy: 0.9583 - lr: 2.5000e-04\n",
            "Epoch 58/100\n",
            "259/261 [============================>.] - ETA: 0s - loss: 0.0934 - accuracy: 0.9677\n",
            "Epoch 58: val_accuracy did not improve from 0.96591\n",
            "261/261 [==============================] - 2s 9ms/step - loss: 0.0930 - accuracy: 0.9677 - val_loss: 0.1944 - val_accuracy: 0.9583 - lr: 2.4751e-04\n",
            "Epoch 59/100\n",
            "253/261 [============================>.] - ETA: 0s - loss: 0.0865 - accuracy: 0.9711\n",
            "Epoch 59: val_accuracy did not improve from 0.96591\n",
            "261/261 [==============================] - 2s 7ms/step - loss: 0.0870 - accuracy: 0.9706 - val_loss: 0.1860 - val_accuracy: 0.9571 - lr: 2.4505e-04\n",
            "Epoch 60/100\n",
            "259/261 [============================>.] - ETA: 0s - loss: 0.0912 - accuracy: 0.9697\n",
            "Epoch 60: val_accuracy improved from 0.96591 to 0.96843, saving model to /content/saved_models/weights-improvement-60-0.97.hdf5\n",
            "261/261 [==============================] - 2s 7ms/step - loss: 0.0911 - accuracy: 0.9697 - val_loss: 0.1456 - val_accuracy: 0.9684 - lr: 2.4261e-04\n",
            "Epoch 61/100\n",
            "256/261 [============================>.] - ETA: 0s - loss: 0.0789 - accuracy: 0.9742\n",
            "Epoch 61: val_accuracy did not improve from 0.96843\n",
            "261/261 [==============================] - 2s 7ms/step - loss: 0.0791 - accuracy: 0.9743 - val_loss: 0.1684 - val_accuracy: 0.9609 - lr: 2.4020e-04\n",
            "Epoch 62/100\n",
            "254/261 [============================>.] - ETA: 0s - loss: 0.0752 - accuracy: 0.9749\n",
            "Epoch 62: val_accuracy did not improve from 0.96843\n",
            "261/261 [==============================] - 2s 6ms/step - loss: 0.0739 - accuracy: 0.9755 - val_loss: 0.1890 - val_accuracy: 0.9558 - lr: 2.3781e-04\n",
            "Epoch 63/100\n",
            "259/261 [============================>.] - ETA: 0s - loss: 0.0699 - accuracy: 0.9764\n",
            "Epoch 63: val_accuracy did not improve from 0.96843\n",
            "261/261 [==============================] - 2s 7ms/step - loss: 0.0696 - accuracy: 0.9765 - val_loss: 0.1633 - val_accuracy: 0.9646 - lr: 2.3544e-04\n",
            "Epoch 64/100\n",
            "256/261 [============================>.] - ETA: 0s - loss: 0.0636 - accuracy: 0.9795\n",
            "Epoch 64: val_accuracy did not improve from 0.96843\n",
            "261/261 [==============================] - 2s 7ms/step - loss: 0.0639 - accuracy: 0.9794 - val_loss: 0.1714 - val_accuracy: 0.9609 - lr: 2.3310e-04\n",
            "Epoch 65/100\n",
            "255/261 [============================>.] - ETA: 0s - loss: 0.0726 - accuracy: 0.9763\n",
            "Epoch 65: val_accuracy did not improve from 0.96843\n",
            "261/261 [==============================] - 2s 9ms/step - loss: 0.0724 - accuracy: 0.9764 - val_loss: 0.1701 - val_accuracy: 0.9634 - lr: 2.3078e-04\n",
            "Epoch 66/100\n",
            "261/261 [==============================] - ETA: 0s - loss: 0.0751 - accuracy: 0.9747\n",
            "Epoch 66: val_accuracy did not improve from 0.96843\n",
            "261/261 [==============================] - 2s 7ms/step - loss: 0.0751 - accuracy: 0.9747 - val_loss: 0.1955 - val_accuracy: 0.9609 - lr: 2.2848e-04\n",
            "Epoch 67/100\n",
            "258/261 [============================>.] - ETA: 0s - loss: 0.0734 - accuracy: 0.9729\n",
            "Epoch 67: val_accuracy did not improve from 0.96843\n",
            "261/261 [==============================] - 2s 7ms/step - loss: 0.0728 - accuracy: 0.9731 - val_loss: 0.1829 - val_accuracy: 0.9634 - lr: 2.2621e-04\n",
            "Epoch 68/100\n",
            "254/261 [============================>.] - ETA: 0s - loss: 0.0642 - accuracy: 0.9771\n",
            "Epoch 68: val_accuracy did not improve from 0.96843\n",
            "261/261 [==============================] - 2s 6ms/step - loss: 0.0651 - accuracy: 0.9769 - val_loss: 0.1552 - val_accuracy: 0.9672 - lr: 2.2396e-04\n",
            "Epoch 69/100\n",
            "258/261 [============================>.] - ETA: 0s - loss: 0.0723 - accuracy: 0.9748\n",
            "Epoch 69: val_accuracy did not improve from 0.96843\n",
            "261/261 [==============================] - 2s 7ms/step - loss: 0.0729 - accuracy: 0.9747 - val_loss: 0.1725 - val_accuracy: 0.9596 - lr: 2.2173e-04\n",
            "Epoch 70/100\n",
            "253/261 [============================>.] - ETA: 0s - loss: 0.0680 - accuracy: 0.9788\n",
            "Epoch 70: val_accuracy did not improve from 0.96843\n",
            "261/261 [==============================] - 2s 7ms/step - loss: 0.0671 - accuracy: 0.9791 - val_loss: 0.1743 - val_accuracy: 0.9596 - lr: 2.1952e-04\n",
            "Epoch 71/100\n",
            "256/261 [============================>.] - ETA: 0s - loss: 0.0629 - accuracy: 0.9792\n",
            "Epoch 71: val_accuracy did not improve from 0.96843\n",
            "261/261 [==============================] - 2s 8ms/step - loss: 0.0625 - accuracy: 0.9794 - val_loss: 0.1690 - val_accuracy: 0.9634 - lr: 2.1734e-04\n",
            "Epoch 72/100\n",
            "258/261 [============================>.] - ETA: 0s - loss: 0.0592 - accuracy: 0.9812\n",
            "Epoch 72: val_accuracy did not improve from 0.96843\n",
            "261/261 [==============================] - 2s 8ms/step - loss: 0.0593 - accuracy: 0.9812 - val_loss: 0.1566 - val_accuracy: 0.9596 - lr: 2.1518e-04\n",
            "Epoch 73/100\n",
            "258/261 [============================>.] - ETA: 0s - loss: 0.0505 - accuracy: 0.9832\n",
            "Epoch 73: val_accuracy did not improve from 0.96843\n",
            "261/261 [==============================] - 2s 7ms/step - loss: 0.0501 - accuracy: 0.9833 - val_loss: 0.1582 - val_accuracy: 0.9583 - lr: 2.1304e-04\n",
            "Epoch 74/100\n",
            "256/261 [============================>.] - ETA: 0s - loss: 0.0661 - accuracy: 0.9792\n",
            "Epoch 74: val_accuracy did not improve from 0.96843\n",
            "261/261 [==============================] - 2s 7ms/step - loss: 0.0660 - accuracy: 0.9792 - val_loss: 0.1642 - val_accuracy: 0.9621 - lr: 2.1092e-04\n",
            "Epoch 75/100\n",
            "255/261 [============================>.] - ETA: 0s - loss: 0.0516 - accuracy: 0.9833\n",
            "Epoch 75: val_accuracy did not improve from 0.96843\n",
            "261/261 [==============================] - 2s 7ms/step - loss: 0.0512 - accuracy: 0.9833 - val_loss: 0.1737 - val_accuracy: 0.9684 - lr: 2.0882e-04\n",
            "Epoch 76/100\n",
            "259/261 [============================>.] - ETA: 0s - loss: 0.0638 - accuracy: 0.9797\n",
            "Epoch 76: val_accuracy did not improve from 0.96843\n",
            "261/261 [==============================] - 2s 7ms/step - loss: 0.0634 - accuracy: 0.9798 - val_loss: 0.1582 - val_accuracy: 0.9609 - lr: 2.0674e-04\n",
            "Epoch 77/100\n",
            "260/261 [============================>.] - ETA: 0s - loss: 0.0529 - accuracy: 0.9816\n",
            "Epoch 77: val_accuracy did not improve from 0.96843\n",
            "261/261 [==============================] - 2s 7ms/step - loss: 0.0529 - accuracy: 0.9816 - val_loss: 0.1552 - val_accuracy: 0.9659 - lr: 2.0468e-04\n",
            "Epoch 78/100\n",
            "261/261 [==============================] - ETA: 0s - loss: 0.0606 - accuracy: 0.9804\n",
            "Epoch 78: val_accuracy improved from 0.96843 to 0.97222, saving model to /content/saved_models/weights-improvement-78-0.97.hdf5\n",
            "261/261 [==============================] - 2s 9ms/step - loss: 0.0606 - accuracy: 0.9804 - val_loss: 0.1603 - val_accuracy: 0.9722 - lr: 2.0265e-04\n",
            "Epoch 79/100\n",
            "255/261 [============================>.] - ETA: 0s - loss: 0.0616 - accuracy: 0.9805\n",
            "Epoch 79: val_accuracy did not improve from 0.97222\n",
            "261/261 [==============================] - 2s 7ms/step - loss: 0.0610 - accuracy: 0.9807 - val_loss: 0.1704 - val_accuracy: 0.9659 - lr: 2.0063e-04\n",
            "Epoch 80/100\n",
            "258/261 [============================>.] - ETA: 0s - loss: 0.0615 - accuracy: 0.9810\n",
            "Epoch 80: val_accuracy did not improve from 0.97222\n",
            "261/261 [==============================] - 2s 7ms/step - loss: 0.0621 - accuracy: 0.9808 - val_loss: 0.1548 - val_accuracy: 0.9659 - lr: 1.9863e-04\n",
            "Epoch 81/100\n",
            "255/261 [============================>.] - ETA: 0s - loss: 0.0593 - accuracy: 0.9828\n",
            "Epoch 81: val_accuracy did not improve from 0.97222\n",
            "261/261 [==============================] - 2s 7ms/step - loss: 0.0597 - accuracy: 0.9828 - val_loss: 0.1623 - val_accuracy: 0.9659 - lr: 1.9666e-04\n",
            "Epoch 82/100\n",
            "261/261 [==============================] - ETA: 0s - loss: 0.0519 - accuracy: 0.9844\n",
            "Epoch 82: val_accuracy did not improve from 0.97222\n",
            "261/261 [==============================] - 2s 7ms/step - loss: 0.0519 - accuracy: 0.9844 - val_loss: 0.1855 - val_accuracy: 0.9596 - lr: 1.9470e-04\n",
            "Epoch 83/100\n",
            "253/261 [============================>.] - ETA: 0s - loss: 0.0488 - accuracy: 0.9842\n",
            "Epoch 83: val_accuracy did not improve from 0.97222\n",
            "261/261 [==============================] - 2s 6ms/step - loss: 0.0490 - accuracy: 0.9842 - val_loss: 0.1882 - val_accuracy: 0.9646 - lr: 1.9276e-04\n",
            "Epoch 84/100\n",
            "261/261 [==============================] - ETA: 0s - loss: 0.0569 - accuracy: 0.9804\n",
            "Epoch 84: val_accuracy did not improve from 0.97222\n",
            "261/261 [==============================] - 2s 7ms/step - loss: 0.0569 - accuracy: 0.9804 - val_loss: 0.1663 - val_accuracy: 0.9672 - lr: 1.9085e-04\n",
            "Epoch 85/100\n",
            "254/261 [============================>.] - ETA: 0s - loss: 0.0444 - accuracy: 0.9857\n",
            "Epoch 85: val_accuracy did not improve from 0.97222\n",
            "261/261 [==============================] - 2s 9ms/step - loss: 0.0438 - accuracy: 0.9857 - val_loss: 0.1656 - val_accuracy: 0.9684 - lr: 1.8895e-04\n",
            "Epoch 86/100\n",
            "261/261 [==============================] - ETA: 0s - loss: 0.0471 - accuracy: 0.9836\n",
            "Epoch 86: val_accuracy did not improve from 0.97222\n",
            "261/261 [==============================] - 2s 7ms/step - loss: 0.0471 - accuracy: 0.9836 - val_loss: 0.1805 - val_accuracy: 0.9609 - lr: 1.8707e-04\n",
            "Epoch 87/100\n",
            "261/261 [==============================] - ETA: 0s - loss: 0.0468 - accuracy: 0.9848\n",
            "Epoch 87: val_accuracy did not improve from 0.97222\n",
            "261/261 [==============================] - 2s 7ms/step - loss: 0.0468 - accuracy: 0.9848 - val_loss: 0.1581 - val_accuracy: 0.9659 - lr: 1.8521e-04\n",
            "Epoch 88/100\n",
            "261/261 [==============================] - ETA: 0s - loss: 0.0499 - accuracy: 0.9845\n",
            "Epoch 88: val_accuracy did not improve from 0.97222\n",
            "261/261 [==============================] - 2s 7ms/step - loss: 0.0499 - accuracy: 0.9845 - val_loss: 0.1668 - val_accuracy: 0.9659 - lr: 1.8336e-04\n",
            "Epoch 89/100\n",
            "261/261 [==============================] - ETA: 0s - loss: 0.0505 - accuracy: 0.9845\n",
            "Epoch 89: val_accuracy did not improve from 0.97222\n",
            "261/261 [==============================] - 2s 7ms/step - loss: 0.0505 - accuracy: 0.9845 - val_loss: 0.1583 - val_accuracy: 0.9672 - lr: 1.8154e-04\n",
            "Epoch 90/100\n",
            "255/261 [============================>.] - ETA: 0s - loss: 0.0418 - accuracy: 0.9866\n",
            "Epoch 90: val_accuracy did not improve from 0.97222\n",
            "261/261 [==============================] - 2s 7ms/step - loss: 0.0414 - accuracy: 0.9869 - val_loss: 0.1728 - val_accuracy: 0.9646 - lr: 1.7973e-04\n",
            "Epoch 91/100\n",
            "260/261 [============================>.] - ETA: 0s - loss: 0.0403 - accuracy: 0.9868\n",
            "Epoch 91: val_accuracy did not improve from 0.97222\n",
            "261/261 [==============================] - 2s 9ms/step - loss: 0.0402 - accuracy: 0.9868 - val_loss: 0.1643 - val_accuracy: 0.9672 - lr: 1.7794e-04\n",
            "Epoch 92/100\n",
            "258/261 [============================>.] - ETA: 0s - loss: 0.0388 - accuracy: 0.9857\n",
            "Epoch 92: val_accuracy did not improve from 0.97222\n",
            "261/261 [==============================] - 2s 8ms/step - loss: 0.0386 - accuracy: 0.9857 - val_loss: 0.1869 - val_accuracy: 0.9621 - lr: 1.7617e-04\n",
            "Epoch 93/100\n",
            "260/261 [============================>.] - ETA: 0s - loss: 0.0454 - accuracy: 0.9841\n",
            "Epoch 93: val_accuracy did not improve from 0.97222\n",
            "261/261 [==============================] - 2s 7ms/step - loss: 0.0453 - accuracy: 0.9842 - val_loss: 0.1738 - val_accuracy: 0.9710 - lr: 1.7442e-04\n",
            "Epoch 94/100\n",
            "260/261 [============================>.] - ETA: 0s - loss: 0.0534 - accuracy: 0.9838\n",
            "Epoch 94: val_accuracy did not improve from 0.97222\n",
            "261/261 [==============================] - 2s 7ms/step - loss: 0.0533 - accuracy: 0.9838 - val_loss: 0.1542 - val_accuracy: 0.9697 - lr: 1.7268e-04\n",
            "Epoch 95/100\n",
            "260/261 [============================>.] - ETA: 0s - loss: 0.0380 - accuracy: 0.9881\n",
            "Epoch 95: val_accuracy did not improve from 0.97222\n",
            "261/261 [==============================] - 2s 7ms/step - loss: 0.0379 - accuracy: 0.9881 - val_loss: 0.1811 - val_accuracy: 0.9710 - lr: 1.7097e-04\n",
            "Epoch 96/100\n",
            "257/261 [============================>.] - ETA: 0s - loss: 0.0330 - accuracy: 0.9884\n",
            "Epoch 96: val_accuracy did not improve from 0.97222\n",
            "261/261 [==============================] - 2s 7ms/step - loss: 0.0334 - accuracy: 0.9882 - val_loss: 0.1689 - val_accuracy: 0.9646 - lr: 1.6926e-04\n",
            "Epoch 97/100\n",
            "257/261 [============================>.] - ETA: 0s - loss: 0.0343 - accuracy: 0.9887\n",
            "Epoch 97: val_accuracy did not improve from 0.97222\n",
            "261/261 [==============================] - 2s 8ms/step - loss: 0.0340 - accuracy: 0.9888 - val_loss: 0.1757 - val_accuracy: 0.9710 - lr: 1.6758e-04\n",
            "Epoch 98/100\n",
            "256/261 [============================>.] - ETA: 0s - loss: 0.0355 - accuracy: 0.9873\n",
            "Epoch 98: val_accuracy did not improve from 0.97222\n",
            "261/261 [==============================] - 2s 9ms/step - loss: 0.0352 - accuracy: 0.9874 - val_loss: 0.1856 - val_accuracy: 0.9659 - lr: 1.6591e-04\n",
            "Epoch 99/100\n",
            "256/261 [============================>.] - ETA: 0s - loss: 0.0379 - accuracy: 0.9874\n",
            "Epoch 99: val_accuracy did not improve from 0.97222\n",
            "261/261 [==============================] - 2s 7ms/step - loss: 0.0376 - accuracy: 0.9876 - val_loss: 0.1747 - val_accuracy: 0.9710 - lr: 1.6426e-04\n",
            "Epoch 100/100\n",
            "258/261 [============================>.] - ETA: 0s - loss: 0.0465 - accuracy: 0.9870\n",
            "Epoch 100: val_accuracy did not improve from 0.97222\n",
            "261/261 [==============================] - 2s 7ms/step - loss: 0.0475 - accuracy: 0.9867 - val_loss: 0.1864 - val_accuracy: 0.9672 - lr: 1.6263e-04\n"
          ]
        }
      ]
    },
    {
      "cell_type": "code",
      "source": [
        "predictions = model.predict(test_images)"
      ],
      "metadata": {
        "colab": {
          "base_uri": "https://localhost:8080/"
        },
        "id": "01O1mZ32fgL9",
        "outputId": "98e6b2b4-9bcc-4090-e089-251b4ea9d823"
      },
      "execution_count": 92,
      "outputs": [
        {
          "output_type": "stream",
          "name": "stdout",
          "text": [
            "25/25 [==============================] - 0s 3ms/step\n"
          ]
        }
      ]
    },
    {
      "cell_type": "code",
      "source": [
        "model.save('saved_model/simple_ocr_plates_model')"
      ],
      "metadata": {
        "id": "lSmyD3PvPqOT",
        "colab": {
          "base_uri": "https://localhost:8080/"
        },
        "outputId": "3031fb99-0ed5-4cc5-9fa5-8ec25bee4665"
      },
      "execution_count": 93,
      "outputs": [
        {
          "output_type": "stream",
          "name": "stderr",
          "text": [
            "WARNING:absl:Found untraced functions such as _jit_compiled_convolution_op, _jit_compiled_convolution_op, _jit_compiled_convolution_op, _jit_compiled_convolution_op while saving (showing 4 of 4). These functions will not be directly callable after loading.\n"
          ]
        }
      ]
    },
    {
      "cell_type": "code",
      "source": [
        "!zip -r /content/saved_model/simple_ocr_plates_model.zip /content/saved_model/simple_ocr_plates_model"
      ],
      "metadata": {
        "colab": {
          "base_uri": "https://localhost:8080/"
        },
        "id": "J_C5DqR8fgGq",
        "outputId": "f9d7b4bc-175b-499e-ac85-8793ca7e99c3"
      },
      "execution_count": 94,
      "outputs": [
        {
          "output_type": "stream",
          "name": "stdout",
          "text": [
            "  adding: content/saved_model/simple_ocr_plates_model/ (stored 0%)\n",
            "  adding: content/saved_model/simple_ocr_plates_model/fingerprint.pb (stored 0%)\n",
            "  adding: content/saved_model/simple_ocr_plates_model/assets/ (stored 0%)\n",
            "  adding: content/saved_model/simple_ocr_plates_model/saved_model.pb (deflated 89%)\n",
            "  adding: content/saved_model/simple_ocr_plates_model/variables/ (stored 0%)\n",
            "  adding: content/saved_model/simple_ocr_plates_model/variables/variables.data-00000-of-00001 (deflated 7%)\n",
            "  adding: content/saved_model/simple_ocr_plates_model/variables/variables.index (deflated 66%)\n",
            "  adding: content/saved_model/simple_ocr_plates_model/keras_metadata.pb (deflated 93%)\n"
          ]
        }
      ]
    },
    {
      "cell_type": "code",
      "source": [
        "from tensorflow import keras\n",
        "ocr_model = keras.models.load_model('/content/saved_models/weights-improvement-78-0.97.hdf5')"
      ],
      "metadata": {
        "id": "UcjzlSbgfgEa"
      },
      "execution_count": 95,
      "outputs": []
    },
    {
      "cell_type": "code",
      "source": [
        "test_imgs = []\n",
        "test_labels = []\n",
        "for indx, subdir in enumerate(subdirs):\n",
        "  imgfolder = os.path.join(test_path, subdir)\n",
        "  if os.path.exists(imgfolder):\n",
        "    for imgname in os.listdir(imgfolder):\n",
        "      img = cv.imread(os.path.join(imgfolder, imgname), 0)\n",
        "      img = cv.resize(img, (input_img_size,input_img_size), interpolation = cv.INTER_AREA)\n",
        "      test_imgs.append(img)\n",
        "      test_labels.append(labels_nums[indx])\n",
        "\n",
        "c = list(zip(test_imgs, test_labels))\n",
        "random.shuffle(c)\n",
        "test_imgs, test_labels = zip(*c)\n",
        "\n",
        "test_images = np.array(test_imgs)\n",
        "test_labels = np.array(test_labels)"
      ],
      "metadata": {
        "id": "AMK3sfGHfmRN"
      },
      "execution_count": 97,
      "outputs": []
    },
    {
      "cell_type": "code",
      "source": [
        "test_images.shape"
      ],
      "metadata": {
        "colab": {
          "base_uri": "https://localhost:8080/"
        },
        "id": "7W7hmUxnEk5g",
        "outputId": "8380eb2e-3f65-4fb9-f91b-f0bede17d073"
      },
      "execution_count": 98,
      "outputs": [
        {
          "output_type": "execute_result",
          "data": {
            "text/plain": [
              "(398, 40, 40)"
            ]
          },
          "metadata": {},
          "execution_count": 98
        }
      ]
    },
    {
      "cell_type": "code",
      "source": [
        "predictions = ocr_model.predict(test_images)"
      ],
      "metadata": {
        "colab": {
          "base_uri": "https://localhost:8080/"
        },
        "id": "L3Jg12JXfmOw",
        "outputId": "95d67933-db0f-4d33-a1db-f1a3af2af3de"
      },
      "execution_count": 99,
      "outputs": [
        {
          "output_type": "stream",
          "name": "stdout",
          "text": [
            "13/13 [==============================] - 0s 8ms/step\n"
          ]
        }
      ]
    },
    {
      "cell_type": "code",
      "source": [
        "num= np.random.randint(0, len(test_images)-1)\n",
        "print(class_names[np.argmax(predictions[num])])\n",
        "print(np.argmax(predictions[num]))\n",
        "plt.imshow(test_images[num])"
      ],
      "metadata": {
        "colab": {
          "base_uri": "https://localhost:8080/",
          "height": 319
        },
        "id": "13480K7ifmMH",
        "outputId": "f8f19ada-c79f-42fb-857e-4966e58fbf29"
      },
      "execution_count": 100,
      "outputs": [
        {
          "output_type": "stream",
          "name": "stdout",
          "text": [
            "2\n",
            "2\n"
          ]
        },
        {
          "output_type": "execute_result",
          "data": {
            "text/plain": [
              "<matplotlib.image.AxesImage at 0x7f8f3fa21040>"
            ]
          },
          "metadata": {},
          "execution_count": 100
        },
        {
          "output_type": "display_data",
          "data": {
            "text/plain": [
              "<Figure size 432x288 with 1 Axes>"
            ],
            "image/png": "[encoded data removed]"
          },
          "metadata": {
            "needs_background": "light"
          }
        }
      ]
    },
    {
      "cell_type": "code",
      "source": [],
      "metadata": {
        "id": "nWVCfVuuQBh7"
      },
      "execution_count": null,
      "outputs": []
    },
    {
      "cell_type": "code",
      "source": [
        "y_predicted = model.predict(test_images)\n",
        "y_predicted_labels = [np.argmax(i) for i in y_predicted]\n",
        "\n",
        "cm = tf.math.confusion_matrix(labels=test_labels, predictions=y_predicted_labels)\n",
        "\n",
        "import seaborn as sn\n",
        "plt.figure(figsize = (10,7))\n",
        "sn.heatmap(cm, annot=True, fmt='d')\n",
        "plt.xlabel('Predicted')\n",
        "plt.ylabel('Truth')\n",
        "     "
      ],
      "metadata": {
        "colab": {
          "base_uri": "https://localhost:8080/",
          "height": 481
        },
        "id": "OhsG-5EzfmJp",
        "outputId": "8d023d0d-922b-4a26-d829-8611ea93c8e9"
      },
      "execution_count": 102,
      "outputs": [
        {
          "output_type": "stream",
          "name": "stdout",
          "text": [
            "13/13 [==============================] - 0s 2ms/step\n"
          ]
        },
        {
          "output_type": "execute_result",
          "data": {
            "text/plain": [
              "Text(69.0, 0.5, 'Truth')"
            ]
          },
          "metadata": {},
          "execution_count": 102
        },
        {
          "output_type": "display_data",
          "data": {
            "text/plain": [
              "<Figure size 720x504 with 2 Axes>"
            ],
            "image/png": "[encoded data removed]"
          },
          "metadata": {
            "needs_background": "light"
          }
        }
      ]
    },
    {
      "cell_type": "code",
      "source": [
        "y_predicted = model.predict(test_images)\n",
        "y_predicted_labels = [np.argmax(i) for i in y_predicted]\n",
        "\n",
        "cm = tf.math.confusion_matrix(labels=test_labels, predictions=y_predicted_labels)\n",
        "\n",
        "import seaborn as sn\n",
        "plt.figure(figsize = (10,7))\n",
        "sn.heatmap(cm, annot=True, fmt='d')\n",
        "plt.xlabel('Predicted')\n",
        "plt.ylabel('Truth')"
      ],
      "metadata": {
        "id": "qDM-g3f7fmHL",
        "colab": {
          "base_uri": "https://localhost:8080/",
          "height": 484
        },
        "outputId": "a87a3b75-2243-47ce-b4c6-ad4ac01e11ab"
      },
      "execution_count": null,
      "outputs": [
        {
          "output_type": "stream",
          "name": "stdout",
          "text": [
            "13/13 [==============================] - 0s 2ms/step\n"
          ]
        },
        {
          "output_type": "execute_result",
          "data": {
            "text/plain": [
              "Text(69.0, 0.5, 'Truth')"
            ]
          },
          "metadata": {},
          "execution_count": 34
        },
        {
          "output_type": "display_data",
          "data": {
            "text/plain": [
              "<Figure size 720x504 with 2 Axes>"
            ],
            "image/png": "[encoded data removed]"
          },
          "metadata": {
            "needs_background": "light"
          }
        }
      ]
    },
    {
      "cell_type": "code",
      "source": [
        "###\n",
        "#plot the training and validation accuracy and loss at each epoch\n",
        "loss = hist.history['loss']\n",
        "val_loss = hist.history['val_loss']\n",
        "epochs = range(1, len(loss) + 1)\n",
        "plt.plot(epochs, loss, 'y', label='Training loss')\n",
        "plt.plot(epochs, val_loss, 'r', label='Validation loss')\n",
        "plt.title('Training and validation loss')\n",
        "plt.xlabel('Epochs')\n",
        "plt.ylabel('Loss')\n",
        "plt.legend()\n",
        "plt.show()\n",
        "\n",
        "acc = hist.history['accuracy']\n",
        "val_acc = hist.history['val_accuracy']\n",
        "\n",
        "plt.plot(epochs, acc, 'y', label='Training Accuracy')\n",
        "plt.plot(epochs, val_acc, 'r', label='Validation Accuracy')\n",
        "plt.title('Training and validation Accuracy')\n",
        "plt.xlabel('Epochs')\n",
        "plt.ylabel('Accuracy')\n",
        "plt.legend()\n",
        "plt.show()"
      ],
      "metadata": {
        "id": "Abx02d4XUH0G",
        "colab": {
          "base_uri": "https://localhost:8080/",
          "height": 573
        },
        "outputId": "3ec3e869-88df-4fee-ce57-be9c800896e0"
      },
      "execution_count": 103,
      "outputs": [
        {
          "output_type": "display_data",
          "data": {
            "text/plain": [
              "<Figure size 432x288 with 1 Axes>"
            ],
            "image/png": "[encoded data removed]"
          },
          "metadata": {
            "needs_background": "light"
          }
        },
        {
          "output_type": "display_data",
          "data": {
            "text/plain": [
              "<Figure size 432x288 with 1 Axes>"
            ],
            "image/png": "[encoded data removed]"
          },
          "metadata": {
            "needs_background": "light"
          }
        }
      ]
    }
  ]
}